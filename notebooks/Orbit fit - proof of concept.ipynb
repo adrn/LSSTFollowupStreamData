{
 "cells": [
  {
   "cell_type": "code",
   "execution_count": null,
   "metadata": {
    "collapsed": false
   },
   "outputs": [],
   "source": [
    "from __future__ import division, print_function\n",
    "\n",
    "# Third-party\n",
    "from astropy.utils.console import ProgressBar\n",
    "import astropy.coordinates as coord\n",
    "import astropy.units as u\n",
    "import matplotlib.pyplot as pl\n",
    "import numpy as np\n",
    "pl.style.use('apw-notebook')\n",
    "%matplotlib inline\n",
    "from scipy.interpolate import InterpolatedUnivariateSpline\n",
    "from scipy.stats import norm\n",
    "import scipy.optimize as so\n",
    "import emcee\n",
    "\n",
    "# Custom\n",
    "import gary.coordinates as gc\n",
    "import gary.dynamics as gd\n",
    "from gary.dynamics import mockstream\n",
    "from gary.dynamics import orbitfit\n",
    "import gary.integrate as gi\n",
    "import gary.potential as gp\n",
    "from gary.units import galactic"
   ]
  },
  {
   "cell_type": "code",
   "execution_count": null,
   "metadata": {
    "collapsed": true
   },
   "outputs": [],
   "source": [
    "# Galactocentric reference frame to use for this project\n",
    "galactocentric_frame = coord.Galactocentric(z_sun=0.*u.pc,\n",
    "                                            galcen_distance=8.3*u.kpc)\n",
    "vcirc = 238.*u.km/u.s\n",
    "vlsr = [-11.1, 12.24, 7.25]*u.km/u.s\n",
    "\n",
    "galcen_frame = dict()\n",
    "galcen_frame['galactocentric_frame'] = galactocentric_frame\n",
    "galcen_frame['vcirc'] = vcirc\n",
    "galcen_frame['vlsr'] = vlsr"
   ]
  },
  {
   "cell_type": "code",
   "execution_count": null,
   "metadata": {
    "collapsed": false
   },
   "outputs": [],
   "source": [
    "true_potential = gp.HernquistPotential(m=5E11, c=20., units=galactic)"
   ]
  },
  {
   "cell_type": "code",
   "execution_count": null,
   "metadata": {
    "collapsed": false
   },
   "outputs": [],
   "source": [
    "w0 = gd.CartesianPhaseSpacePosition(pos=[0,25.,0]*u.kpc,\n",
    "                                    vel=[0,0,100]*u.km/u.s)\n",
    "prog_orbit = true_potential.integrate_orbit(w0, dt=1., nsteps=5500, \n",
    "                                            Integrator=gi.DOPRI853Integrator)\n",
    "fig = prog_orbit.plot()"
   ]
  },
  {
   "cell_type": "code",
   "execution_count": null,
   "metadata": {
    "collapsed": true
   },
   "outputs": [],
   "source": [
    "stream = mockstream.fardal_stream(true_potential, prog_orbit=prog_orbit, \n",
    "                                  prog_mass=5E5*u.Msun, release_every=1, Integrator=gi.DOPRI853Integrator)"
   ]
  },
  {
   "cell_type": "code",
   "execution_count": null,
   "metadata": {
    "collapsed": false
   },
   "outputs": [],
   "source": [
    "fig,ax = pl.subplots(1,1,figsize=(6,6))\n",
    "ax.plot(stream.pos[1], stream.pos[2], ls='none', alpha=0.25)"
   ]
  },
  {
   "cell_type": "code",
   "execution_count": null,
   "metadata": {
    "collapsed": false
   },
   "outputs": [],
   "source": [
    "prog_c,prog_v = prog_orbit.to_frame(coord.Galactic, **galcen_frame)\n",
    "stream_c,stream_v = stream.to_frame(coord.Galactic, **galcen_frame)"
   ]
  },
  {
   "cell_type": "code",
   "execution_count": null,
   "metadata": {
    "collapsed": false
   },
   "outputs": [],
   "source": [
    "pl.plot(prog_c.l.wrap_at(180*u.deg).degree, prog_c.b.degree, marker=None, alpha=0.25, color='b')\n",
    "pl.scatter(stream_c.l.wrap_at(180*u.deg).degree, stream_c.b.degree, \n",
    "           c=stream_c.distance.value, cmap='Greys_r', s=4)\n",
    "pl.colorbar()"
   ]
  },
  {
   "cell_type": "markdown",
   "metadata": {},
   "source": [
    "## Select some \"stars\" to observe\n",
    "\n",
    "Only select leading tail"
   ]
  },
  {
   "cell_type": "code",
   "execution_count": null,
   "metadata": {
    "collapsed": false
   },
   "outputs": [],
   "source": [
    "idx = np.random.permutation(np.arange(8000, stream_c.l.size, dtype=int)[::2])[:128]\n",
    "obs_c = stream_c[idx]\n",
    "obs_v = [v[idx] for v in stream_v]"
   ]
  },
  {
   "cell_type": "code",
   "execution_count": null,
   "metadata": {
    "collapsed": false
   },
   "outputs": [],
   "source": [
    "pl.scatter(obs_c.l.wrap_at(180*u.deg).degree, obs_c.b.degree, s=4, c='k')"
   ]
  },
  {
   "cell_type": "markdown",
   "metadata": {},
   "source": [
    "---"
   ]
  },
  {
   "cell_type": "code",
   "execution_count": null,
   "metadata": {
    "collapsed": true
   },
   "outputs": [],
   "source": [
    "np.random.seed(42)\n",
    "R = orbitfit.compute_stream_rotation_matrix(obs_c, align_lon='max')"
   ]
  },
  {
   "cell_type": "code",
   "execution_count": null,
   "metadata": {
    "collapsed": false
   },
   "outputs": [],
   "source": [
    "# rotate all data to plot\n",
    "rot_rep = orbitfit.rotate_sph_coordinate(obs_c, R)\n",
    "\n",
    "pl.figure()\n",
    "pl.plot(rot_rep.lon.wrap_at(180*u.deg).degree, rot_rep.lat.degree, ls='none', marker='o', ms=5.)"
   ]
  },
  {
   "cell_type": "markdown",
   "metadata": {},
   "source": [
    "### Prepare data"
   ]
  },
  {
   "cell_type": "code",
   "execution_count": null,
   "metadata": {
    "collapsed": true
   },
   "outputs": [],
   "source": [
    "np.random.seed(42)\n",
    "\n",
    "n_data = len(obs_c)\n",
    "data = dict()\n",
    "err = dict()\n",
    "\n",
    "# err['distance'] = 0.02*obs_c.distance\n",
    "# err['mul'] = 0.1*u.mas/u.yr\n",
    "# err['mub'] = 0.1*u.mas/u.yr\n",
    "# err['vr'] = 10.*u.km/u.s\n",
    "err['distance'] = 1E-6*obs_c.distance\n",
    "err['mul'] = 1E-1*u.mas/u.yr\n",
    "err['mub'] = 1E-1*u.mas/u.yr\n",
    "err['vr'] = 1E-6*u.km/u.s\n",
    "\n",
    "data['phi1'] = rot_rep.lon\n",
    "data['phi2'] = rot_rep.lat\n",
    "data['distance'] = obs_c.distance + np.random.normal(0., err['distance'].value, size=n_data)*obs_c.distance.unit\n",
    "data['mul'] = obs_v[0] + np.random.normal(0., err['mul'].value, size=n_data)*err['mul'].unit\n",
    "data['mub'] = obs_v[1] + np.random.normal(0., err['mub'].value, size=n_data)*err['mub'].unit\n",
    "data['vr'] = obs_v[2] + np.random.normal(0., err['vr'].value, size=n_data)*err['vr'].unit"
   ]
  },
  {
   "cell_type": "markdown",
   "metadata": {
    "collapsed": true
   },
   "source": [
    "---"
   ]
  },
  {
   "cell_type": "markdown",
   "metadata": {},
   "source": [
    "## MCMC stuff"
   ]
  },
  {
   "cell_type": "code",
   "execution_count": null,
   "metadata": {
    "collapsed": true
   },
   "outputs": [],
   "source": [
    "def integrate_forward_backward(potential, w0, t_forw, t_back, dt=0.5,\n",
    "                               Integrator=gi.DOPRI853Integrator, t0=0.):\n",
    "    \"\"\"\n",
    "    Integrate an orbit forward and backward from a point and combine\n",
    "    into a single orbit object.\n",
    "\n",
    "    Parameters\n",
    "    ----------\n",
    "    potential : :class:`gary.potential.PotentialBase`\n",
    "    w0 : :class:`gary.dynamics.CartesianPhaseSpacePosition`, array_like\n",
    "    t_forw : numeric\n",
    "        The amount of time to integate forward in time (a positive number).\n",
    "    t_back : numeric\n",
    "        The amount of time to integate backwards in time (a negative number).\n",
    "    dt : numeric (optional)\n",
    "        The timestep.\n",
    "    Integrator : :class:`gary.integrate.Integrator` (optional)\n",
    "        The integrator class to use.\n",
    "    t0 : numeric (optional)\n",
    "        The initial time.\n",
    "\n",
    "    Returns\n",
    "    -------\n",
    "    orbit : :class:`gary.dynamics.CartesianOrbit`\n",
    "    \"\"\"\n",
    "    if t_back != 0:\n",
    "        o1 = potential.integrate_orbit(w0, dt=-dt, t1=t0, t2=t_back, Integrator=Integrator)\n",
    "    else:\n",
    "        o1 = None\n",
    "    \n",
    "    if t_forw != 0:\n",
    "        o2 = potential.integrate_orbit(w0, dt=dt, t1=t0, t2=t_forw, Integrator=Integrator)\n",
    "    else:\n",
    "        o2 = None\n",
    "    \n",
    "    if o1 is None:\n",
    "        return o2\n",
    "    elif o2 is None:\n",
    "        return o1\n",
    "    \n",
    "    o1 = o1[::-1]\n",
    "    o2 = o2[1:]\n",
    "    orbit = combine((o1, o2), along_time_axis=True)\n",
    "\n",
    "    if orbit.pos.shape[-1] == 1:\n",
    "        return orbit[:,0]\n",
    "    else:\n",
    "        return orbit"
   ]
  },
  {
   "cell_type": "code",
   "execution_count": null,
   "metadata": {
    "collapsed": true
   },
   "outputs": [],
   "source": [
    "def _unpack(p, freeze=None):\n",
    "    \"\"\" Unpack a parameter vector \"\"\"\n",
    "    \n",
    "    if freeze is None:\n",
    "        freeze = dict()\n",
    "\n",
    "    # these are for the initial conditions\n",
    "    phi2,d,mul,mub,vr = p[:5]\n",
    "    count_ix = 5\n",
    "\n",
    "    # time to integrate forward and backward\n",
    "    if 't_forw' not in freeze:\n",
    "        t_forw = p[count_ix]\n",
    "        count_ix += 1\n",
    "    else:\n",
    "        t_forw = freeze['t_forw']\n",
    "\n",
    "    if 't_back' not in freeze:\n",
    "        t_back = p[count_ix]\n",
    "        count_ix += 1\n",
    "    else:\n",
    "        t_back = freeze['t_back']\n",
    "\n",
    "    # prior on instrinsic width of stream\n",
    "    if 'phi2_sigma' not in freeze:\n",
    "        phi2_sigma = p[count_ix]\n",
    "        count_ix += 1\n",
    "    else:\n",
    "        phi2_sigma = freeze['phi2_sigma']\n",
    "\n",
    "    # prior on instrinsic depth (distance) of stream\n",
    "    if 'd_sigma' not in freeze:\n",
    "        d_sigma = p[count_ix]\n",
    "        count_ix += 1\n",
    "    else:\n",
    "        d_sigma = freeze['d_sigma']\n",
    "\n",
    "    # prior on instrinsic LOS velocity dispersion of stream\n",
    "    if 'vr_sigma' not in freeze:\n",
    "        vr_sigma = p[count_ix]\n",
    "        count_ix += 1\n",
    "    else:\n",
    "        vr_sigma = freeze['vr_sigma']\n",
    "        \n",
    "    if 'hernquist_logm' not in freeze:\n",
    "        hernquist_logm = p[count_ix]\n",
    "        count_ix += 1\n",
    "    else:\n",
    "        hernquist_logm = freeze['hernquist_logm']\n",
    "\n",
    "    return phi2,d,mul,mub,vr,t_forw,t_back,phi2_sigma,d_sigma,vr_sigma,hernquist_logm"
   ]
  },
  {
   "cell_type": "code",
   "execution_count": null,
   "metadata": {
    "collapsed": true
   },
   "outputs": [],
   "source": [
    "def ln_prior(p, data, err, R, Potential, dt, freeze=None):\n",
    "    \"\"\"\n",
    "    Evaluate the prior over stream orbit fit parameters.\n",
    "\n",
    "    See docstring for `ln_likelihood()` for information on args and kwargs.\n",
    "\n",
    "    \"\"\"\n",
    "\n",
    "    # log prior value\n",
    "    lp = 0.\n",
    "\n",
    "    # unpack the parameters and the frozen parameters\n",
    "    phi2,d,mul,mub,vr,t_forw,t_back,phi2_sigma,d_sigma,vr_sigma,hernquist_logm = _unpack(p, freeze)\n",
    "\n",
    "    # time to integrate forward and backward\n",
    "    t_integ = np.abs(t_forw) + np.abs(t_back)\n",
    "    if t_forw <= t_back:\n",
    "        raise ValueError(\"Forward integration time less than or equal to \"\n",
    "                         \"backwards integration time.\")\n",
    "\n",
    "    if (t_forw != 0 and t_forw < dt) or (t_back != 0 and t_back > -dt):\n",
    "        return -np.inf\n",
    "\n",
    "    # prior on instrinsic width of stream\n",
    "    if 'phi2_sigma' not in freeze:\n",
    "        if phi2_sigma <= 0.:\n",
    "            return -np.inf\n",
    "        lp += -np.log(phi2_sigma)\n",
    "\n",
    "    # prior on instrinsic depth (distance) of stream\n",
    "    if 'd_sigma' not in freeze:\n",
    "        if d_sigma <= 0.:\n",
    "            return -np.inf\n",
    "        lp += -np.log(d_sigma)\n",
    "\n",
    "    # prior on instrinsic LOS velocity dispersion of stream\n",
    "    if 'vr_sigma' not in freeze:\n",
    "        if vr_sigma <= 0.:\n",
    "            return -np.inf\n",
    "        lp += -np.log(vr_sigma)\n",
    "\n",
    "    # strong prior on phi2\n",
    "    if phi2 < -np.pi/2. or phi2 > np.pi/2:\n",
    "        return -np.inf\n",
    "    lp += norm.logpdf(phi2, loc=0., scale=phi2_sigma)\n",
    "\n",
    "    # uniform prior on integration time\n",
    "    ntimes = int(t_integ / dt) + 1\n",
    "    if t_integ <= 2. or t_integ > 1000. or ntimes < 4:\n",
    "        return -np.inf\n",
    "    \n",
    "    if hernquist_logm < 10.5 or hernquist_logm > 12.5:\n",
    "        return -np.inf\n",
    "\n",
    "    return lp"
   ]
  },
  {
   "cell_type": "markdown",
   "metadata": {},
   "source": [
    "`R` goes from Galactic to stream coords"
   ]
  },
  {
   "cell_type": "code",
   "execution_count": null,
   "metadata": {
    "collapsed": true
   },
   "outputs": [],
   "source": [
    "from gary.util import atleast_2d\n",
    "\n",
    "def _mcmc_sample_to_coord(p, R):\n",
    "    p = atleast_2d(p, insert_axis=-1) # note: from Gary, not Numpy\n",
    "    rep = coord.SphericalRepresentation(lon=p[0]*0.*u.radian,\n",
    "                                        lat=p[0]*u.radian, # this index looks weird but is right\n",
    "                                        distance=p[1]*u.kpc)\n",
    "    return coord.Galactic(orbitfit.rotate_sph_coordinate(rep, R.T))\n",
    "\n",
    "def _mcmc_sample_to_w0(p, R):\n",
    "    p = atleast_2d(p, insert_axis=-1) # note: from Gary, not Numpy\n",
    "    c = _mcmc_sample_to_coord(p, R)\n",
    "    x0 = c.transform_to(galactocentric_frame).cartesian.xyz.decompose(galactic).value\n",
    "    v0 = gc.vhel_to_gal(c, pm=(p[2]*u.rad/u.Myr,p[3]*u.rad/u.Myr), rv=p[4]*u.kpc/u.Myr,\n",
    "                        **galcen_frame).decompose(galactic).value\n",
    "    w0 = np.concatenate((x0, v0))\n",
    "    return w0\n",
    "\n",
    "def ln_likelihood(p, data, err, R, Potential, dt, freeze=None):\n",
    "    \"\"\" Evaluate the stream orbit fit likelihood. \"\"\"\n",
    "    chi2 = 0.\n",
    "\n",
    "    # unpack the parameters and the frozen parameters\n",
    "    phi2,d,mul,mub,vr,t_forw,t_back,phi2_sigma,d_sigma,vr_sigma,hernquist_logm = _unpack(p, freeze)\n",
    "\n",
    "    w0 = _mcmc_sample_to_w0([phi2,d,mul,mub,vr], R)[:,0]\n",
    "\n",
    "    # HACK: a prior on velocities\n",
    "    vmag2 = np.sum(w0[3:]**2)\n",
    "    chi2 += -vmag2 / (0.15**2)\n",
    "\n",
    "    # integrate the orbit\n",
    "    potential = Potential(m=10**hernquist_logm, c=true_potential.parameters['c'], units=galactic)\n",
    "    orbit = integrate_forward_backward(potential, w0, t_back=t_back, t_forw=t_forw)\n",
    "\n",
    "    # rotate the model points to stream coordinates\n",
    "    model_c,model_v = orbit.to_frame(coord.Galactic, **galcen_frame)\n",
    "    model_oph = orbitfit.rotate_sph_coordinate(model_c.spherical, R)\n",
    "#      = model_c.transform_to(Ophiuchus)\n",
    "\n",
    "    # model stream points in ophiuchus coordinates\n",
    "    model_phi1 = model_oph.lon\n",
    "    model_phi2 = model_oph.lat.radian\n",
    "    model_d = model_oph.distance.decompose(galactic).value\n",
    "    model_mul,model_mub,model_vr = [x.decompose(galactic).value for x in model_v]\n",
    "\n",
    "    # for independent variable, use cos(phi)\n",
    "    data_x = np.cos(data['phi1'])\n",
    "    model_x = np.cos(model_phi1)\n",
    "    # data_x = ophdata.coord_oph.phi1.wrap_at(180*u.deg).radian\n",
    "    # model_x = model_phi1.wrap_at(180*u.deg).radian\n",
    "    ix = np.argsort(model_x)\n",
    "\n",
    "    # shortening for readability -- the data\n",
    "    phi2 = data['phi2'].radian\n",
    "    dist = data['distance'].decompose(galactic).value\n",
    "    mul = data['mul'].decompose(galactic).value\n",
    "    mub = data['mub'].decompose(galactic).value\n",
    "    vr = data['vr'].decompose(galactic).value\n",
    "\n",
    "    # define interpolating functions\n",
    "    order = 3\n",
    "    # bbox = [-np.pi, np.pi]\n",
    "    bbox = [-1, 1]\n",
    "    phi2_interp = InterpolatedUnivariateSpline(model_x[ix], model_phi2[ix], k=order, bbox=bbox) # change bbox to units of model_x\n",
    "    d_interp = InterpolatedUnivariateSpline(model_x[ix], model_d[ix], k=order, bbox=bbox)\n",
    "    mul_interp = InterpolatedUnivariateSpline(model_x[ix], model_mul[ix], k=order, bbox=bbox)\n",
    "    mub_interp = InterpolatedUnivariateSpline(model_x[ix], model_mub[ix], k=order, bbox=bbox)\n",
    "    vr_interp = InterpolatedUnivariateSpline(model_x[ix], model_vr[ix], k=order, bbox=bbox)\n",
    "\n",
    "    chi2 += -(phi2_interp(data_x) - phi2)**2 / phi2_sigma**2 - 2*np.log(phi2_sigma)\n",
    "\n",
    "    _err = err['distance'].decompose(galactic).value\n",
    "    chi2 += -(d_interp(data_x) - dist)**2 / (_err**2 + d_sigma**2) - np.log(_err**2 + d_sigma**2)\n",
    "\n",
    "    _err = err['mul'].decompose(galactic).value\n",
    "    chi2 += -(mul_interp(data_x) - mul)**2 / (_err**2) - 2*np.log(_err)\n",
    "\n",
    "    _err = err['mub'].decompose(galactic).value\n",
    "    chi2 += -(mub_interp(data_x) - mub)**2 / (_err**2) - 2*np.log(_err)\n",
    "\n",
    "    _err = err['vr'].decompose(galactic).value\n",
    "    chi2 += -(vr_interp(data_x) - vr)**2 / (_err**2 + vr_sigma**2) - np.log(_err**2 + vr_sigma**2)\n",
    "\n",
    "    # this is some kind of whack prior - don't integrate more than we have to\n",
    "#     chi2 += -(model_phi1.radian.min() - data['phi1'].radian.min())**2 / (phi2_sigma**2)\n",
    "#     chi2 += -(model_phi1.radian.max() - data['phi1'].radian.max())**2 / (phi2_sigma**2)\n",
    "\n",
    "    return 0.5*chi2"
   ]
  },
  {
   "cell_type": "code",
   "execution_count": null,
   "metadata": {
    "collapsed": true
   },
   "outputs": [],
   "source": [
    "def ln_posterior(p, *args, **kwargs):\n",
    "    \"\"\"\n",
    "    Evaluate the stream orbit fit posterior probability.\n",
    "\n",
    "    See docstring for `ln_likelihood()` for information on args and kwargs.\n",
    "\n",
    "    Returns\n",
    "    -------\n",
    "    lp : float\n",
    "        The log of the posterior probability.\n",
    "\n",
    "    \"\"\"\n",
    "\n",
    "    lp = ln_prior(p, *args, **kwargs)\n",
    "    if not np.isfinite(lp):\n",
    "        return -np.inf\n",
    "\n",
    "    ll = ln_likelihood(p, *args, **kwargs)\n",
    "    if not np.all(np.isfinite(ll)):\n",
    "        return -np.inf\n",
    "\n",
    "    return lp + ll.sum()"
   ]
  },
  {
   "cell_type": "code",
   "execution_count": null,
   "metadata": {
    "collapsed": true
   },
   "outputs": [],
   "source": [
    "def plot_mcmc_sample_orbit(p):\n",
    "    w0 = _mcmc_sample_to_w0(p, R)\n",
    "    orbit = true_potential.integrate_orbit(w0, dt=-0.5, t1=0., t2=freeze['t_back'])\n",
    "    orbit_c,orbit_v = orbit.to_frame(coord.Galactic, **galcen_frame)\n",
    "\n",
    "    fig,axes = pl.subplots(2,2,figsize=(12,8), sharex=True)\n",
    "\n",
    "    # l,d\n",
    "    axes[1,0].errorbar(obs_c.l.wrap_at(180*u.deg).degree, data['distance'].value, err['distance'].value, \n",
    "                       ls='none', marker='.', ecolor='#aaaaaa')\n",
    "    l, = axes[1,0].plot(orbit_c.l.wrap_at(180*u.deg).degree, orbit_c.distance.value, marker=None)\n",
    "    col = l.get_color()\n",
    "    \n",
    "    # l,b\n",
    "    axes[0,0].scatter(obs_c.l.wrap_at(180*u.deg).degree, obs_c.b.degree, marker='.', c='k')\n",
    "    axes[0,0].plot(orbit_c.l.wrap_at(180*u.deg).degree, orbit_c.b.degree, marker=None, c=col)\n",
    "\n",
    "    # l,mul\n",
    "    axes[0,1].errorbar(obs_c.l.wrap_at(180*u.deg).degree, data['mul'].value, err['mul'].value, \n",
    "                       ls='none', marker='.', ecolor='#aaaaaa')\n",
    "    axes[0,1].plot(orbit_c.l.wrap_at(180*u.deg).degree, orbit_v[0].value, marker=None, c=col)\n",
    "\n",
    "    # l,mub\n",
    "    axes[1,1].errorbar(obs_c.l.wrap_at(180*u.deg).degree, data['mub'].value, err['mub'].value, \n",
    "                       ls='none', marker='.', ecolor='#aaaaaa')\n",
    "    axes[1,1].plot(orbit_c.l.wrap_at(180*u.deg).degree, orbit_v[1].value, marker=None, c=col)\n",
    "    \n",
    "    axes[1,0].set_xlabel('$l$ [deg]')\n",
    "    axes[1,1].set_xlabel('$l$ [deg]')\n",
    "    \n",
    "    fig.tight_layout()\n",
    "    return fig,axes"
   ]
  },
  {
   "cell_type": "code",
   "execution_count": null,
   "metadata": {
    "collapsed": false
   },
   "outputs": [],
   "source": [
    "freeze = dict()\n",
    "# these estimated from the plots\n",
    "freeze['phi2_sigma'] = np.radians(0.9)\n",
    "freeze['d_sigma'] = 0.15\n",
    "freeze['vr_sigma'] = (1.5*u.km/u.s).decompose(galactic).value \n",
    "freeze['t_forw'] = 0.\n",
    "freeze['t_back'] = -150.\n",
    "# freeze['hernquist_logm'] = np.log10(true_potential.parameters['m'].value)\n",
    "\n",
    "idx = data['phi1'].argmin()\n",
    "p0_guess = [data['phi2'].radian[idx],\n",
    "            data['distance'].decompose(galactic).value[idx],\n",
    "            data['mul'].decompose(galactic).value[idx],\n",
    "            data['mub'].decompose(galactic).value[idx],\n",
    "            data['vr'].decompose(galactic).value[idx],\n",
    "            np.log10(true_potential.parameters['m'].value)]"
   ]
  },
  {
   "cell_type": "code",
   "execution_count": null,
   "metadata": {
    "collapsed": false
   },
   "outputs": [],
   "source": [
    "obs_c[idx], [v[idx].decompose(galactic).value for v in obs_v], p0_guess"
   ]
  },
  {
   "cell_type": "code",
   "execution_count": null,
   "metadata": {
    "collapsed": false
   },
   "outputs": [],
   "source": [
    "fig,axes = plot_mcmc_sample_orbit(p0_guess)\n",
    "\n",
    "derp = orbitfit.rotate_sph_coordinate(coord.SphericalRepresentation(lon=data['phi1'][idx][None], \n",
    "                                                                    lat=data['phi2'][idx][None],\n",
    "                                                                    distance=data['distance'][idx][None]), R.T)\n",
    "g = coord.Galactic(derp)\n",
    "axes[0,0].plot(g.l.degree, g.b.degree, marker='o', color='r', alpha=0.4)"
   ]
  },
  {
   "cell_type": "code",
   "execution_count": null,
   "metadata": {
    "collapsed": false
   },
   "outputs": [],
   "source": [
    "print(ln_likelihood(p0_guess, data, err, R, gp.HernquistPotential, dt=0.5, freeze=freeze).sum(),\n",
    "      ln_posterior(p0_guess, data, err, R, gp.HernquistPotential, dt=0.5, freeze=freeze))"
   ]
  },
  {
   "cell_type": "code",
   "execution_count": null,
   "metadata": {
    "collapsed": false
   },
   "outputs": [],
   "source": [
    "args = (data, err, R, gp.HernquistPotential, 0.5, freeze)\n",
    "res = so.minimize(lambda *args,**kwargs: -ln_posterior(*args, **kwargs),\n",
    "                  x0=p0_guess, method='powell', args=args)"
   ]
  },
  {
   "cell_type": "code",
   "execution_count": null,
   "metadata": {
    "collapsed": false
   },
   "outputs": [],
   "source": [
    "res"
   ]
  },
  {
   "cell_type": "code",
   "execution_count": null,
   "metadata": {
    "collapsed": false
   },
   "outputs": [],
   "source": [
    "fig,axes = plot_mcmc_sample_orbit(res.x)"
   ]
  },
  {
   "cell_type": "code",
   "execution_count": null,
   "metadata": {
    "collapsed": false
   },
   "outputs": [],
   "source": [
    "np.random.seed(42)\n",
    "n_walkers = 8*len(p0_guess)\n",
    "sampler = emcee.EnsembleSampler(nwalkers=n_walkers, dim=len(p0_guess), lnpostfn=ln_posterior,\n",
    "                                args=args)\n",
    "\n",
    "mcmc_p0 = emcee.utils.sample_ball(res.x, 1E-3*np.array(p0_guess), size=n_walkers)"
   ]
  },
  {
   "cell_type": "code",
   "execution_count": null,
   "metadata": {
    "collapsed": false
   },
   "outputs": [],
   "source": [
    "n_iterations = 128\n",
    "\n",
    "with ProgressBar(n_iterations, ipython_widget=True) as bar:\n",
    "    for results in sampler.sample(mcmc_p0, None, None, iterations=n_iterations):\n",
    "        bar.update()\n",
    "        \n",
    "# _ = sampler.run_mcmc(mcmc_p0, N=128)"
   ]
  },
  {
   "cell_type": "code",
   "execution_count": null,
   "metadata": {
    "collapsed": false
   },
   "outputs": [],
   "source": [
    "sampler.chain[...,i].shape"
   ]
  },
  {
   "cell_type": "code",
   "execution_count": null,
   "metadata": {
    "collapsed": false
   },
   "outputs": [],
   "source": [
    "for i in range(5):\n",
    "    pl.figure()\n",
    "    for walker in sampler.chain[:,128:,i]:\n",
    "        pl.plot(walker, marker=None, drawstyle='steps')"
   ]
  },
  {
   "cell_type": "code",
   "execution_count": null,
   "metadata": {
    "collapsed": true
   },
   "outputs": [],
   "source": []
  }
 ],
 "metadata": {
  "kernelspec": {
   "display_name": "Environment (three)",
   "language": "",
   "name": "three"
  },
  "language_info": {
   "codemirror_mode": {
    "name": "ipython",
    "version": 3
   },
   "file_extension": ".py",
   "mimetype": "text/x-python",
   "name": "python",
   "nbconvert_exporter": "python",
   "pygments_lexer": "ipython3",
   "version": "3.5.1"
  }
 },
 "nbformat": 4,
 "nbformat_minor": 0
}