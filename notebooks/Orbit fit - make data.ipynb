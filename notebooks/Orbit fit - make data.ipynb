{
 "cells": [
  {
   "cell_type": "code",
   "execution_count": null,
   "metadata": {
    "collapsed": false
   },
   "outputs": [],
   "source": [
    "from __future__ import division, print_function\n",
    "\n",
    "import os\n",
    "import sys\n",
    "_path = os.path.abspath(\"../scripts\")\n",
    "if _path not in sys.path:\n",
    "    sys.path.insert(0, _path)\n",
    "from config import galcen_frame, potentials\n",
    "\n",
    "# Third-party\n",
    "import astropy.coordinates as coord\n",
    "import astropy.units as u\n",
    "import matplotlib.pyplot as pl\n",
    "import numpy as np\n",
    "pl.style.use('apw-notebook')\n",
    "%matplotlib inline\n",
    "from scipy.interpolate import InterpolatedUnivariateSpline\n",
    "from scipy.stats import norm\n",
    "import scipy.optimize as so\n",
    "import emcee\n",
    "\n",
    "# Custom\n",
    "from gary.util import atleast_2d\n",
    "import gary.coordinates as gc\n",
    "import gary.dynamics as gd\n",
    "from gary.dynamics import mockstream\n",
    "from gary.dynamics import orbitfit\n",
    "import gary.integrate as gi\n",
    "import gary.potential as gp\n",
    "from gary.units import galactic"
   ]
  },
  {
   "cell_type": "markdown",
   "metadata": {},
   "source": [
    "## Set the potential to run:"
   ]
  },
  {
   "cell_type": "code",
   "execution_count": null,
   "metadata": {
    "collapsed": false
   },
   "outputs": [],
   "source": [
    "name = 'triaxial'\n",
    "potential = potentials[name]\n",
    "potential"
   ]
  },
  {
   "cell_type": "markdown",
   "metadata": {},
   "source": [
    "### Should finish at the same place in both potentials:"
   ]
  },
  {
   "cell_type": "code",
   "execution_count": null,
   "metadata": {
    "collapsed": true
   },
   "outputs": [],
   "source": [
    "end_c = coord.Galactic(l=125*u.degree, b=31*u.degree, distance=15*u.kpc)\n",
    "end_v = [2.1*u.mas/u.yr, -0.25*u.mas/u.yr, -100*u.km/u.s]"
   ]
  },
  {
   "cell_type": "code",
   "execution_count": null,
   "metadata": {
    "collapsed": false
   },
   "outputs": [],
   "source": [
    "end_c_gc = end_c.transform_to(galcen_frame['galactocentric_frame'])\n",
    "end_v_gc = gc.vhel_to_gal(end_c, end_v[:2], end_v[2], **galcen_frame)\n",
    "w0 = gd.CartesianPhaseSpacePosition(pos=end_c_gc.represent_as(coord.CartesianRepresentation).xyz,\n",
    "                                    vel=end_v_gc)"
   ]
  },
  {
   "cell_type": "code",
   "execution_count": null,
   "metadata": {
    "collapsed": false
   },
   "outputs": [],
   "source": [
    "n_steps = 4000\n",
    "prog_orbit = potential.integrate_orbit(w0, dt=-1., nsteps=n_steps, t1=float(n_steps),\n",
    "                                       Integrator=gi.DOPRI853Integrator)\n",
    "prog_orbit = prog_orbit[::-1]\n",
    "fig = prog_orbit.plot()\n",
    "fig.axes[0].plot(end_c_gc.represent_as(coord.CartesianRepresentation).xyz[0],\n",
    "                 end_c_gc.represent_as(coord.CartesianRepresentation).xyz[1],\n",
    "                 marker='o')"
   ]
  },
  {
   "cell_type": "code",
   "execution_count": null,
   "metadata": {
    "collapsed": false
   },
   "outputs": [],
   "source": [
    "stream = mockstream.fardal_stream(potential, prog_orbit=prog_orbit, \n",
    "                                  prog_mass=5E5*u.Msun, release_every=1, \n",
    "                                  Integrator=gi.DOPRI853Integrator)"
   ]
  },
  {
   "cell_type": "code",
   "execution_count": null,
   "metadata": {
    "collapsed": false
   },
   "outputs": [],
   "source": [
    "prog_c,prog_v = prog_orbit.to_frame(coord.Galactic, **galcen_frame)\n",
    "stream_c,stream_v = stream.to_frame(coord.Galactic, **galcen_frame)"
   ]
  },
  {
   "cell_type": "code",
   "execution_count": null,
   "metadata": {
    "collapsed": false
   },
   "outputs": [],
   "source": [
    "fig,ax = pl.subplots(1,1,figsize=(6,6))\n",
    "ax.plot(stream_c.l.wrap_at(180*u.degree).degree, stream_c.b.degree, ls='none', alpha=0.25)"
   ]
  },
  {
   "cell_type": "code",
   "execution_count": null,
   "metadata": {
    "collapsed": false
   },
   "outputs": [],
   "source": [
    "pl.plot(prog_c.l.wrap_at(180*u.deg).degree, prog_c.b.degree, marker=None, alpha=0.25, color='b')\n",
    "pl.scatter(stream_c.l.wrap_at(180*u.deg).degree, stream_c.b.degree, \n",
    "           c=stream_c.distance.value, cmap='Greys_r', s=4, vmin=10, vmax=20)\n",
    "pl.colorbar()"
   ]
  },
  {
   "cell_type": "markdown",
   "metadata": {},
   "source": [
    "## Select some \"stars\" to observe\n",
    "\n",
    "Only select leading tail and most recently stripped stuff"
   ]
  },
  {
   "cell_type": "code",
   "execution_count": null,
   "metadata": {
    "collapsed": false
   },
   "outputs": [],
   "source": [
    "idx = np.random.permutation(np.arange(n_steps, stream_c.l.size, dtype=int)[::2])[:64]\n",
    "obs_c = stream_c[idx]\n",
    "obs_v = [v[idx] for v in stream_v]\n",
    "\n",
    "# smaller region of sky\n",
    "idx = (obs_c.l.degree > 105.) & (obs_c.l.degree < 180.) & (obs_c.b.degree > 30)\n",
    "obs_c = obs_c[idx]\n",
    "obs_v = [v[idx] for v in obs_v]"
   ]
  },
  {
   "cell_type": "code",
   "execution_count": null,
   "metadata": {
    "collapsed": false
   },
   "outputs": [],
   "source": [
    "pl.scatter(obs_c.l.wrap_at(180*u.deg).degree, obs_c.b.degree, s=4, c='k')"
   ]
  },
  {
   "cell_type": "markdown",
   "metadata": {},
   "source": [
    "---"
   ]
  },
  {
   "cell_type": "code",
   "execution_count": null,
   "metadata": {
    "collapsed": true
   },
   "outputs": [],
   "source": [
    "np.random.seed(42)\n",
    "R = orbitfit.compute_stream_rotation_matrix(obs_c, align_lon='max')"
   ]
  },
  {
   "cell_type": "code",
   "execution_count": null,
   "metadata": {
    "collapsed": false
   },
   "outputs": [],
   "source": [
    "# rotate all data to plot\n",
    "rot_rep = orbitfit.rotate_sph_coordinate(obs_c, R)\n",
    "\n",
    "pl.figure(figsize=(10,2))\n",
    "pl.plot(rot_rep.lon.wrap_at(180*u.deg).degree, rot_rep.lat.degree, ls='none', marker='o', ms=5.)\n",
    "pl.gca().set_aspect('equal')\n",
    "pl.xlabel(r'$\\phi_1$ [deg]')\n",
    "pl.ylabel(r'$\\phi_2$ [deg]')"
   ]
  },
  {
   "cell_type": "markdown",
   "metadata": {},
   "source": [
    "### Save data"
   ]
  },
  {
   "cell_type": "code",
   "execution_count": null,
   "metadata": {
    "collapsed": true
   },
   "outputs": [],
   "source": [
    "import pickle"
   ]
  },
  {
   "cell_type": "code",
   "execution_count": null,
   "metadata": {
    "collapsed": true
   },
   "outputs": [],
   "source": [
    "for frac_distance_err in [1, 5]:\n",
    "    np.random.seed(42)\n",
    "\n",
    "    n_data = len(obs_c)\n",
    "    data = dict()\n",
    "    err = dict()\n",
    "\n",
    "    err['distance'] = frac_distance_err/100. * obs_c.distance\n",
    "    err['mul'] = 0.1*u.mas/u.yr\n",
    "    err['mub'] = 0.1*u.mas/u.yr\n",
    "    err['vr'] = 10.*u.km/u.s\n",
    "    # err['distance'] = 1E-6*obs_c.distance\n",
    "    # err['mul'] = 1E-1*u.mas/u.yr\n",
    "    # err['mub'] = 1E-1*u.mas/u.yr\n",
    "    # err['vr'] = 1E-6*u.km/u.s\n",
    "\n",
    "    data['phi1'] = rot_rep.lon\n",
    "    data['phi2'] = rot_rep.lat\n",
    "    data['distance'] = obs_c.distance + np.random.normal(0., err['distance'].value, size=n_data)*obs_c.distance.unit\n",
    "    data['mul'] = obs_v[0] + np.random.normal(0., err['mul'].value, size=n_data)*err['mul'].unit\n",
    "    data['mub'] = obs_v[1] + np.random.normal(0., err['mub'].value, size=n_data)*err['mub'].unit\n",
    "    data['vr'] = obs_v[2] + np.random.normal(0., err['vr'].value, size=n_data)*err['vr'].unit\n",
    "    \n",
    "    with open(\"../data/{}_{}percent.pickle\".format(name, frac_distance_err), 'wb') as f:\n",
    "        pickle.dump((data,err,R), f)"
   ]
  },
  {
   "cell_type": "markdown",
   "metadata": {},
   "source": [
    "### Decide on integration time to set"
   ]
  },
  {
   "cell_type": "code",
   "execution_count": null,
   "metadata": {
    "collapsed": true
   },
   "outputs": [],
   "source": [
    "def _mcmc_sample_to_coord(p, R):\n",
    "    p = atleast_2d(p, insert_axis=-1) # note: from Gary, not Numpy\n",
    "    rep = coord.SphericalRepresentation(lon=p[0]*0.*u.radian,\n",
    "                                        lat=p[0]*u.radian, # this index looks weird but is right\n",
    "                                        distance=p[1]*u.kpc)\n",
    "    return coord.Galactic(orbitfit.rotate_sph_coordinate(rep, R.T))\n",
    "\n",
    "def _mcmc_sample_to_w0(p, R):\n",
    "    p = atleast_2d(p, insert_axis=-1) # note: from Gary, not Numpy\n",
    "    c = _mcmc_sample_to_coord(p, R)\n",
    "    x0 = c.transform_to(galcen_frame['galactocentric_frame']).cartesian.xyz.decompose(galactic).value\n",
    "    v0 = gc.vhel_to_gal(c, pm=(p[2]*u.rad/u.Myr,p[3]*u.rad/u.Myr), rv=p[4]*u.kpc/u.Myr,\n",
    "                        **galcen_frame).decompose(galactic).value\n",
    "    w0 = np.concatenate((x0, v0))\n",
    "    return w0\n",
    "\n",
    "def plot_mcmc_sample_orbit(p, R):\n",
    "    w0 = _mcmc_sample_to_w0(p, R)\n",
    "    orbit = potential.integrate_orbit(w0, dt=-0.5, t1=0., t2=freeze['t_back'])\n",
    "    orbit_c,orbit_v = orbit.to_frame(coord.Galactic, **galcen_frame)\n",
    "\n",
    "    fig,axes = pl.subplots(2,2,figsize=(12,8), sharex=True)\n",
    "\n",
    "    # l,d\n",
    "    axes[1,0].errorbar(obs_c.l.wrap_at(180*u.deg).degree, data['distance'].value, err['distance'].value, \n",
    "                       ls='none', marker='.', ecolor='#aaaaaa')\n",
    "    l, = axes[1,0].plot(orbit_c.l.wrap_at(180*u.deg).degree, orbit_c.distance.value, marker=None)\n",
    "    col = l.get_color()\n",
    "    \n",
    "    # l,b\n",
    "    axes[0,0].scatter(obs_c.l.wrap_at(180*u.deg).degree, obs_c.b.degree, marker='.', c='k')\n",
    "    axes[0,0].plot(orbit_c.l.wrap_at(180*u.deg).degree, orbit_c.b.degree, marker=None, c=col)\n",
    "\n",
    "    # l,mul\n",
    "    axes[0,1].errorbar(obs_c.l.wrap_at(180*u.deg).degree, data['mul'].value, err['mul'].value, \n",
    "                       ls='none', marker='.', ecolor='#aaaaaa')\n",
    "    axes[0,1].plot(orbit_c.l.wrap_at(180*u.deg).degree, orbit_v[0].value, marker=None, c=col)\n",
    "\n",
    "    # l,mub\n",
    "    axes[1,1].errorbar(obs_c.l.wrap_at(180*u.deg).degree, data['mub'].value, err['mub'].value, \n",
    "                       ls='none', marker='.', ecolor='#aaaaaa')\n",
    "    axes[1,1].plot(orbit_c.l.wrap_at(180*u.deg).degree, orbit_v[1].value, marker=None, c=col)\n",
    "    \n",
    "    axes[1,0].set_xlabel('$l$ [deg]')\n",
    "    axes[1,1].set_xlabel('$l$ [deg]')\n",
    "    \n",
    "    fig.tight_layout()\n",
    "    return fig,axes"
   ]
  },
  {
   "cell_type": "code",
   "execution_count": null,
   "metadata": {
    "collapsed": false
   },
   "outputs": [],
   "source": [
    "freeze = dict()\n",
    "# these estimated from the plots\n",
    "freeze['phi2_sigma'] = np.radians(0.9)\n",
    "freeze['d_sigma'] = 0.15\n",
    "freeze['vr_sigma'] = (1.5*u.km/u.s).decompose(galactic).value \n",
    "freeze['t_forw'] = 0.\n",
    "freeze['t_back'] = -68.\n",
    "for k,v in potential.parameters.items():\n",
    "    freeze['potential_{}'.format(k)] = v.value\n",
    "\n",
    "idx = data['phi1'].argmin()\n",
    "p0_guess = [data['phi2'].radian[idx],\n",
    "            data['distance'].decompose(galactic).value[idx],\n",
    "            data['mul'].decompose(galactic).value[idx],\n",
    "            data['mub'].decompose(galactic).value[idx],\n",
    "            data['vr'].decompose(galactic).value[idx]]"
   ]
  },
  {
   "cell_type": "code",
   "execution_count": null,
   "metadata": {
    "collapsed": false
   },
   "outputs": [],
   "source": [
    "fig,axes = plot_mcmc_sample_orbit(p0_guess, R)\n",
    "\n",
    "derp = orbitfit.rotate_sph_coordinate(coord.SphericalRepresentation(lon=data['phi1'][idx][None], \n",
    "                                                                    lat=data['phi2'][idx][None],\n",
    "                                                                    distance=data['distance'][idx][None]), R.T)\n",
    "g = coord.Galactic(derp)\n",
    "axes[0,0].plot(g.l.degree, g.b.degree, marker='o', color='r', alpha=0.4)"
   ]
  },
  {
   "cell_type": "code",
   "execution_count": null,
   "metadata": {
    "collapsed": false
   },
   "outputs": [],
   "source": [
    "pl.plot(obs_c.l.degree, obs_v[2].to(u.km/u.s), ls='none')"
   ]
  },
  {
   "cell_type": "code",
   "execution_count": null,
   "metadata": {
    "collapsed": true
   },
   "outputs": [],
   "source": []
  }
 ],
 "metadata": {
  "kernelspec": {
   "display_name": "Environment (three)",
   "language": "",
   "name": "three"
  },
  "language_info": {
   "codemirror_mode": {
    "name": "ipython",
    "version": 3
   },
   "file_extension": ".py",
   "mimetype": "text/x-python",
   "name": "python",
   "nbconvert_exporter": "python",
   "pygments_lexer": "ipython3",
   "version": "3.5.1"
  }
 },
 "nbformat": 4,
 "nbformat_minor": 0
}