{
 "cells": [
  {
   "cell_type": "code",
   "execution_count": null,
   "metadata": {
    "collapsed": true
   },
   "outputs": [],
   "source": [
    "from __future__ import division, print_function\n",
    "\n",
    "# Third-party\n",
    "import astropy.units as u\n",
    "import matplotlib.pyplot as pl\n",
    "import numpy as np\n",
    "pl.style.use('apw-notebook')\n",
    "%matplotlib inline\n",
    "\n",
    "# Custom\n",
    "import gary.coordinates as gc\n",
    "import gary.dynamics as gd\n",
    "import gary.integrate as gi\n",
    "import gary.potential as gp\n",
    "from gary.units import galactic\n",
    "\n",
    "import scf"
   ]
  },
  {
   "cell_type": "code",
   "execution_count": null,
   "metadata": {
    "collapsed": true
   },
   "outputs": [],
   "source": [
    "potential = gp.LogarithmicPotential(v_c=200*u.km/u.s, r_h=20*u.kpc, units=galactic,\n",
    "                                    q1=1, q2=1, q3=1)"
   ]
  },
  {
   "cell_type": "code",
   "execution_count": null,
   "metadata": {
    "collapsed": false
   },
   "outputs": [],
   "source": [
    "w0 = gd.CartesianPhaseSpacePosition(pos=[10,0,0.]*u.kpc,\n",
    "                                    vel=[0,0,150.]*u.km/u.s)\n",
    "orbit = potential.integrate_orbit(w0, dt=-0.5, nsteps=8000)\n",
    "\n",
    "fig = orbit.plot()"
   ]
  },
  {
   "cell_type": "code",
   "execution_count": null,
   "metadata": {
    "collapsed": false
   },
   "outputs": [],
   "source": [
    "pos = orbit[-1].pos.T.to(u.kpc).value[0]\n",
    "vel = orbit[-1].vel.T.to(u.km/u.s).value[0]\n",
    "\n",
    "cmd = (\"python scripts/makerun.py --potentials='LogarithmicPotential' --dt=0.5 --nsteps=8000 \"\n",
    "       \"--mass 200000 --name best-stream-data --path ../best-stream-data/sims/ \"\n",
    "       \"--pos='{x[0]:.8f},{x[1]:.8f},{x[2]:.8f} kpc' \"\n",
    "       \"--vel='{v[0]:.8f},{v[1]:.8f},{v[2]:.8f} km/s'\").format(x=pos, v=vel)\n",
    "print(cmd)"
   ]
  },
  {
   "cell_type": "markdown",
   "metadata": {},
   "source": [
    "---"
   ]
  },
  {
   "cell_type": "code",
   "execution_count": null,
   "metadata": {
    "collapsed": false
   },
   "outputs": [],
   "source": [
    "rdr = scf.SCFReader(\"/Users/adrian/projects/best-stream-data/sims/best-stream-data/\")"
   ]
  },
  {
   "cell_type": "code",
   "execution_count": null,
   "metadata": {
    "collapsed": false
   },
   "outputs": [],
   "source": [
    "tbl = rdr.read_snap('SNAP010', units=galactic)"
   ]
  },
  {
   "cell_type": "code",
   "execution_count": null,
   "metadata": {
    "collapsed": false
   },
   "outputs": [],
   "source": [
    "tbl"
   ]
  },
  {
   "cell_type": "code",
   "execution_count": null,
   "metadata": {
    "collapsed": false
   },
   "outputs": [],
   "source": [
    "pl.figure(figsize=(6,6))\n",
    "pl.plot(tbl['x'], tbl['z'], ls='none')\n",
    "\n",
    "w = orbit[orbit.t < (orbit.t.min()+2*u.Gyr)]\n",
    "pl.plot(w.pos[0], w.pos[2], marker=None)"
   ]
  },
  {
   "cell_type": "code",
   "execution_count": null,
   "metadata": {
    "collapsed": true
   },
   "outputs": [],
   "source": []
  },
  {
   "cell_type": "code",
   "execution_count": null,
   "metadata": {
    "collapsed": true
   },
   "outputs": [],
   "source": [
    "nmax = 6\n",
    "lmax = 3\n",
    "PHI_NLM = np.random.random(size=(nmax+1, lmax+1, lmax+1))"
   ]
  },
  {
   "cell_type": "code",
   "execution_count": null,
   "metadata": {
    "collapsed": false
   },
   "outputs": [],
   "source": [
    "def getIndex3d(row, col, dep, ncol, ndep):\n",
    "    return (row*ncol + col)*ndep + dep\n",
    "\n",
    "for l in range(lmax+1):\n",
    "    for m in range(l+1):\n",
    "        for n in range(nmax+1):\n",
    "            assert PHI_NLM[n,l,m] == PHI_NLM.ravel()[getIndex3d(n,l,m,lmax+1,lmax+1)]"
   ]
  },
  {
   "cell_type": "code",
   "execution_count": null,
   "metadata": {
    "collapsed": false
   },
   "outputs": [],
   "source": [
    "(0.2*u.kpc/u.Myr).to(u.km/u.s).value"
   ]
  },
  {
   "cell_type": "markdown",
   "metadata": {},
   "source": [
    "---"
   ]
  },
  {
   "cell_type": "code",
   "execution_count": null,
   "metadata": {
    "collapsed": false
   },
   "outputs": [],
   "source": [
    "d0 = np.loadtxt(\"/Users/adrian/projects/scf/test/SNAP0000\")"
   ]
  },
  {
   "cell_type": "code",
   "execution_count": null,
   "metadata": {
    "collapsed": false
   },
   "outputs": [],
   "source": [
    "for i in range(8+1):\n",
    "    d = np.loadtxt(\"/Users/adrian/projects/scf/test/SNAP000{}\".format(i))\n",
    "\n",
    "    pl.figure(figsize=(5,5))\n",
    "    pl.plot(d[:,0]/100., d[:,1]/100., ls='none', marker=',')\n",
    "    pl.xlim(-20,20)\n",
    "    pl.ylim(-20,20)\n",
    "    pl.xlabel(\"$x$\")\n",
    "    pl.ylabel(\"$y$\")"
   ]
  },
  {
   "cell_type": "code",
   "execution_count": null,
   "metadata": {
    "collapsed": true
   },
   "outputs": [],
   "source": [
    "# double rs = 10./config.ru;\n",
    "# double vcirc2 = 220.*220./config.vu/config.vu;\n",
    "# double GMs = 10.0*vcirc2/config.ru;\n",
    "from astropy.constants import G"
   ]
  },
  {
   "cell_type": "code",
   "execution_count": null,
   "metadata": {
    "collapsed": false
   },
   "outputs": [],
   "source": [
    "rs = 10.*u.kpc\n",
    "M = ((220.*u.km/u.s)**2 * rs / G).to(u.Msun)\n",
    "\n",
    "potential = gp.HernquistPotential(m=M, c=rs, units=galactic)\n",
    "w0 = gd.CartesianPhaseSpacePosition(pos=[15,0,0]*u.kpc,\n",
    "                                    vel=[0,100,0.]*u.km/u.s)\n",
    "w = potential.integrate_orbit(w0, dt=1., nsteps=4096)"
   ]
  },
  {
   "cell_type": "code",
   "execution_count": null,
   "metadata": {
    "collapsed": false
   },
   "outputs": [],
   "source": [
    "for i in range(8+1)[:4]:\n",
    "    d = np.loadtxt(\"/Users/adrian/projects/scf/test/SNAP000{}\".format(i))\n",
    "\n",
    "    pl.figure(figsize=(5,5))\n",
    "    pl.plot(d[:,0]/100., d[:,1]/100., ls='none', marker=',')\n",
    "    pl.xlim(-20,20)\n",
    "    pl.ylim(-20,20)\n",
    "    pl.xlabel(\"$x$\")\n",
    "    pl.ylabel(\"$y$\")\n",
    "    \n",
    "    pl.plot(w[:1500].pos[0], w[:1500].pos[1], marker=None, zorder=-100)"
   ]
  },
  {
   "cell_type": "code",
   "execution_count": null,
   "metadata": {
    "collapsed": false
   },
   "outputs": [],
   "source": [
    "d = np.loadtxt(\"/Users/adrian/projects/scf/test/SNAP0003\")\n",
    "\n",
    "pl.figure(figsize=(5,5))\n",
    "pl.plot(d[:,0]/100., d[:,1]/100., ls='none', marker='.', alpha=0.1)\n",
    "# pl.xlim(6,7)\n",
    "# pl.ylim(-11.5,-10.5)\n",
    "pl.xlabel(\"$x$\")\n",
    "pl.ylabel(\"$y$\")\n",
    "\n",
    "pl.plot(w[:1500].pos[0], w[:1500].pos[1], marker=None, zorder=-100)"
   ]
  },
  {
   "cell_type": "code",
   "execution_count": null,
   "metadata": {
    "collapsed": false
   },
   "outputs": [],
   "source": [
    "for i in range(8+1)[4:]:\n",
    "    d = np.loadtxt(\"/Users/adrian/projects/scf/test/SNAP000{}\".format(i))\n",
    "\n",
    "    pl.figure(figsize=(5,5))\n",
    "    pl.plot(d[:,0]/100., d[:,1]/100., ls='none', marker=',')\n",
    "    pl.xlim(-20,20)\n",
    "    pl.ylim(-20,20)\n",
    "    pl.xlabel(\"$x$\")\n",
    "    pl.ylabel(\"$y$\")\n",
    "    \n",
    "    pl.plot(w[1500:3500].pos[0], w[1500:3500].pos[1], marker=None, zorder=-100)"
   ]
  },
  {
   "cell_type": "markdown",
   "metadata": {},
   "source": [
    "---\n"
   ]
  },
  {
   "cell_type": "code",
   "execution_count": null,
   "metadata": {
    "collapsed": true
   },
   "outputs": [],
   "source": [
    "import h5py\n",
    "from gary.units import UnitSystem\n",
    "import astropy.units as u\n",
    "import matplotlib.pyplot as pl\n",
    "pl.style.use('apw-notebook')\n",
    "%matplotlib inline\n",
    "import numpy as np"
   ]
  },
  {
   "cell_type": "code",
   "execution_count": null,
   "metadata": {
    "collapsed": false
   },
   "outputs": [],
   "source": [
    "with h5py.File(\"/Users/adrian/projects/scf/scripts/test.h5\", 'r') as f:\n",
    "    print(dict(f['units'].attrs))\n",
    "    print(list(f['snapshots'].keys()))\n",
    "    \n",
    "    usys = UnitSystem([u.Unit(x) for x in f['units'].attrs.values()] + [u.radian])\n",
    "    for i in range(3):\n",
    "        print((f['snapshots/{}'.format(i)].attrs['t'] * usys['time']).to(u.Myr))\n",
    "        \n",
    "    pos = (f['snapshots/0/pos'][:]*usys['length']).to(u.kpc).value\n",
    "    vel = (f['snapshots/0/vel'][:]*usys['length']/usys['time']).to(u.km/u.s).value\n",
    "    \n",
    "    cen_pos = (f['cen/pos'][:]*usys['length']).to(u.kpc).value\n",
    "    cen_vel = (f['cen/vel'][:]*usys['length']/usys['time']).to(u.km/u.s).value"
   ]
  },
  {
   "cell_type": "code",
   "execution_count": null,
   "metadata": {
    "collapsed": false
   },
   "outputs": [],
   "source": [
    "pl.figure(figsize=(6,6))\n",
    "pl.plot(pos[0], pos[1], ls='none')\n",
    "pl.plot(cen_pos[0], cen_pos[1], marker=None)\n",
    "pl.xlim(-20,20)\n",
    "pl.ylim(-20,20)"
   ]
  },
  {
   "cell_type": "code",
   "execution_count": null,
   "metadata": {
    "collapsed": false
   },
   "outputs": [],
   "source": [
    "np.mean(pos, axis=-1)"
   ]
  },
  {
   "cell_type": "code",
   "execution_count": null,
   "metadata": {
    "collapsed": false
   },
   "outputs": [],
   "source": [
    "np.mean(vel, axis=-1)"
   ]
  },
  {
   "cell_type": "code",
   "execution_count": null,
   "metadata": {
    "collapsed": false
   },
   "outputs": [],
   "source": [
    "pl.figure(figsize=(6,6))\n",
    "pl.plot(vel[0], vel[1], ls='none')\n",
    "pl.plot(np.mean(vel[0]), np.mean(vel[1]), marker='o')\n",
    "pl.xlim(-120,120)\n",
    "pl.ylim(-120,120)"
   ]
  },
  {
   "cell_type": "code",
   "execution_count": null,
   "metadata": {
    "collapsed": true
   },
   "outputs": [],
   "source": []
  }
 ],
 "metadata": {
  "kernelspec": {
   "display_name": "Python 3",
   "language": "python",
   "name": "python3"
  },
  "language_info": {
   "codemirror_mode": {
    "name": "ipython",
    "version": 3
   },
   "file_extension": ".py",
   "mimetype": "text/x-python",
   "name": "python",
   "nbconvert_exporter": "python",
   "pygments_lexer": "ipython3",
   "version": "3.5.1"
  }
 },
 "nbformat": 4,
 "nbformat_minor": 0
}